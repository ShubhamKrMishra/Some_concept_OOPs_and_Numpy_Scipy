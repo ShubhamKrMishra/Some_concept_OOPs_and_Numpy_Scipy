{
 "cells": [
  {
   "cell_type": "markdown",
   "id": "2ef215d7",
   "metadata": {},
   "source": [
    "# Numpy and SciPy Handson"
   ]
  },
  {
   "cell_type": "code",
   "execution_count": 2,
   "id": "80551888",
   "metadata": {},
   "outputs": [],
   "source": [
    "import numpy as np"
   ]
  },
  {
   "cell_type": "markdown",
   "id": "95c2be98",
   "metadata": {},
   "source": [
    "1.How to compare two NumPy arrays?"
   ]
  },
  {
   "cell_type": "code",
   "execution_count": 4,
   "id": "3d37471d",
   "metadata": {},
   "outputs": [
    {
     "name": "stdout",
     "output_type": "stream",
     "text": [
      "False\n"
     ]
    }
   ],
   "source": [
    "list_num1 = np.array([10, 20, 30])\n",
    "list_num2 = np.array([10, 24, 30])\n",
    "print(np.array_equal(list_num1,list_num2))\n"
   ]
  },
  {
   "cell_type": "code",
   "execution_count": 7,
   "id": "0c4fe70b",
   "metadata": {},
   "outputs": [
    {
     "name": "stdout",
     "output_type": "stream",
     "text": [
      "False\n"
     ]
    }
   ],
   "source": [
    "a = np.array([10, 20, 30])\n",
    "b = np.array([10, 24, 30])\n",
    "c = a == b\n",
    "var = c.all()\n",
    "print(var)\n"
   ]
  },
  {
   "cell_type": "markdown",
   "id": "bb1b4570",
   "metadata": {},
   "source": [
    "#2.How to check whether specified values are present in NumPy array?"
   ]
  },
  {
   "cell_type": "code",
   "execution_count": 8,
   "id": "f9f02407",
   "metadata": {},
   "outputs": [
    {
     "name": "stdout",
     "output_type": "stream",
     "text": [
      "[[ 1  2  3  4  5  6]\n",
      " [ 9 10 11 12  8  5]]\n",
      "True\n",
      "False\n"
     ]
    }
   ],
   "source": [
    "a=np.array([[1,2,3,4,5,6],[9,10,11,12,8,5]])\n",
    "print(\"Original List\\n\",a)\n",
    "\n",
    "print(2 in a)\n",
    "print(13 in a)\n"
   ]
  },
  {
   "cell_type": "code",
   "execution_count": 9,
   "id": "268d9b86",
   "metadata": {},
   "outputs": [
    {
     "name": "stdout",
     "output_type": "stream",
     "text": [
      "[False  True False False False]\n"
     ]
    }
   ],
   "source": [
    "a  = np.array([1,2,3,4,5])\n",
    "\n",
    "print(np.isin(a,[2]))"
   ]
  },
  {
   "cell_type": "markdown",
   "id": "69692600",
   "metadata": {},
   "source": [
    "3.How do you concatenate two NumPy arrays vertically and horizontally?"
   ]
  },
  {
   "cell_type": "code",
   "execution_count": 14,
   "id": "192f6d25",
   "metadata": {},
   "outputs": [
    {
     "name": "stdout",
     "output_type": "stream",
     "text": [
      "Original a\n",
      " [[1 2]\n",
      " [3 4]]\n",
      "Original b\n",
      " [[5 6]\n",
      " [7 8]]\n",
      "Array vertically concatenated\n",
      " [[1 2]\n",
      " [3 4]\n",
      " [5 6]\n",
      " [7 8]]\n",
      "Array horizontally concatenated\n",
      " [[1 2 5 6]\n",
      " [3 4 7 8]]\n"
     ]
    }
   ],
   "source": [
    "a = np.array([[1, 2], [3, 4]])\n",
    "b = np.array([[5, 6], [7, 8]])\n",
    "print(\"Original a\\n\",a)\n",
    "print(\"Original b\\n\",b)\n",
    "print(\"Array vertically concatenated\\n\",np.vstack((a,b)))\n",
    "print(\"Array horizontally concatenated\\n\",np.hstack((a,b)))"
   ]
  },
  {
   "cell_type": "markdown",
   "id": "9b4b3897",
   "metadata": {},
   "source": [
    "4.How do you sort a NumPy array in ascending and descending order?"
   ]
  },
  {
   "cell_type": "code",
   "execution_count": 16,
   "id": "7e049c1f",
   "metadata": {},
   "outputs": [
    {
     "name": "stdout",
     "output_type": "stream",
     "text": [
      "Ascending Order [1 3 5 5 6 9]\n",
      "Descending [9 6 5 5 3 1]\n"
     ]
    }
   ],
   "source": [
    "a = np.array([1,5,9,3,5,6])\n",
    "\n",
    "b = np.sort(a)\n",
    "print(\"Ascending Order\" , b)\n",
    "\n",
    "c = np.sort(a)[::-1]\n",
    "print(\"Descending\", c)"
   ]
  },
  {
   "cell_type": "code",
   "execution_count": 18,
   "id": "6994c3c8",
   "metadata": {},
   "outputs": [
    {
     "name": "stdout",
     "output_type": "stream",
     "text": [
      "[0 3 1 4 5 2]\n",
      "[9 6 5 5 3 1]\n"
     ]
    }
   ],
   "source": [
    "a = np.array([1,5,9,3,5,6])\n",
    "\n",
    "idx = np.argsort(a)\n",
    "\n",
    "print(idx)\n",
    "\n",
    "b = a[idx[::-1]]\n",
    "print(b)"
   ]
  },
  {
   "cell_type": "markdown",
   "id": "ff01ab6e",
   "metadata": {},
   "source": [
    "5.How do you perform element-wise mathematical operations on two NumPy arrays?"
   ]
  },
  {
   "cell_type": "code",
   "execution_count": 20,
   "id": "b70ba6c5",
   "metadata": {},
   "outputs": [
    {
     "name": "stdout",
     "output_type": "stream",
     "text": [
      "[111  44  75]\n",
      "[0.0990099  0.83333333 0.66666667]\n"
     ]
    }
   ],
   "source": [
    "a = np.array([10, 20, 30])\n",
    "b = np.array([101, 24, 45])\n",
    "\n",
    "c = a + b\n",
    "print(c)\n",
    "\n",
    "d = a / b\n",
    "print(d)"
   ]
  },
  {
   "cell_type": "markdown",
   "id": "b2dfc5c1",
   "metadata": {},
   "source": [
    "6.Write a NumPy program to find the k smallest values of a given NumPy array."
   ]
  },
  {
   "cell_type": "code",
   "execution_count": 25,
   "id": "9d782ede",
   "metadata": {},
   "outputs": [
    {
     "name": "stdout",
     "output_type": "stream",
     "text": [
      "Enter the value of k4\n",
      "[23 14 15 31 24 51 67]\n",
      "Sorted Array\n",
      " [14 15 23 24 31 51 67]\n",
      "4 smallest elements of the array are\n",
      "[14 15 23 24]\n"
     ]
    }
   ],
   "source": [
    "k = int(input(\"Enter the value of k\"))\n",
    "\n",
    "arr = np.array([23, 14, 15, 31, 24, 51, 67])\n",
    "print(arr)\n",
    "\n",
    "arr1 = np.sort(arr)\n",
    "print(\"Sorted Array\\n\",arr1)\n",
    "  \n",
    "print(k, \"smallest elements of the array are\")\n",
    "print(arr1[:k])"
   ]
  },
  {
   "cell_type": "markdown",
   "id": "0d493716",
   "metadata": {},
   "source": [
    "7.Write a NumPy program to create an array of the integers from 10 to 50 and print only the values that are divisible by 3."
   ]
  },
  {
   "cell_type": "code",
   "execution_count": 38,
   "id": "5e6d78bf",
   "metadata": {},
   "outputs": [
    {
     "name": "stdout",
     "output_type": "stream",
     "text": [
      "12\n",
      "15\n",
      "18\n",
      "21\n",
      "24\n",
      "27\n",
      "30\n",
      "33\n",
      "36\n",
      "39\n",
      "42\n",
      "45\n",
      "48\n"
     ]
    }
   ],
   "source": [
    "import numpy as np\n",
    "\n",
    "num = np.arange(10,51)\n",
    "\n",
    "len1 = len(num)\n",
    "\n",
    "for i in range(len1):\n",
    "    if num[i]%3 == 0:\n",
    "        print(num[i])\n"
   ]
  },
  {
   "cell_type": "code",
   "execution_count": 33,
   "id": "1255fe91",
   "metadata": {},
   "outputs": [
    {
     "name": "stdout",
     "output_type": "stream",
     "text": [
      "[12 15 18 21 24 27 30 33 36 39 42 45 48]\n"
     ]
    }
   ],
   "source": [
    "arr = np.arange(10,51)\n",
    "div = arr[arr % 3 == 0]\n",
    "print(div)"
   ]
  },
  {
   "cell_type": "markdown",
   "id": "7a398395",
   "metadata": {},
   "source": [
    "8.Write a NumPy program to create a 2D array with 1 on the border and 0 inside."
   ]
  },
  {
   "cell_type": "code",
   "execution_count": 43,
   "id": "96ca5840",
   "metadata": {},
   "outputs": [
    {
     "name": "stdout",
     "output_type": "stream",
     "text": [
      "[[1. 1. 1. 1. 1.]\n",
      " [1. 1. 1. 1. 1.]\n",
      " [1. 1. 1. 1. 1.]\n",
      " [1. 1. 1. 1. 1.]\n",
      " [1. 1. 1. 1. 1.]]\n",
      "[[1. 1. 1. 1. 1.]\n",
      " [1. 0. 0. 0. 1.]\n",
      " [1. 0. 0. 0. 1.]\n",
      " [1. 0. 0. 0. 1.]\n",
      " [1. 1. 1. 1. 1.]]\n"
     ]
    }
   ],
   "source": [
    "x = np.ones((5,5))\n",
    "print(x)\n",
    "\n",
    "x[1:-1,1:-1] = 0\n",
    "print(x)"
   ]
  },
  {
   "cell_type": "code",
   "execution_count": null,
   "id": "53f5de6f",
   "metadata": {},
   "outputs": [],
   "source": [
    "l1 = [1,2,3,4,5,6]\n",
    "l1[1:-1]"
   ]
  },
  {
   "cell_type": "markdown",
   "id": "019f4717",
   "metadata": {},
   "source": [
    "9.Write a program to find Permutation and Combination for for a given value."
   ]
  },
  {
   "cell_type": "code",
   "execution_count": 39,
   "id": "39b7e1be",
   "metadata": {},
   "outputs": [],
   "source": [
    "from scipy.special import comb,perm"
   ]
  },
  {
   "cell_type": "code",
   "execution_count": 41,
   "id": "28a374d9",
   "metadata": {},
   "outputs": [
    {
     "name": "stdout",
     "output_type": "stream",
     "text": [
      "Enter the value of n: 10\n",
      "Enter the value of r: 5\n",
      "Permutation of 10 and 5 = 30240.0\n",
      "Combination of 10 and 5 = 252.0\n"
     ]
    }
   ],
   "source": [
    "n = int(input(\"Enter the value of n: \"))\n",
    "r = int(input(\"Enter the value of r: \"))\n",
    "permutation = perm(n,r)\n",
    "combination = comb(n,r)\n",
    "print(f'Permutation of {n} and {r} = {permutation}')\n",
    "print(f'Combination of {n} and {r} = {combination}')\n"
   ]
  },
  {
   "cell_type": "code",
   "execution_count": null,
   "id": "90469ef6",
   "metadata": {},
   "outputs": [],
   "source": []
  }
 ],
 "metadata": {
  "kernelspec": {
   "display_name": "Python 3 (ipykernel)",
   "language": "python",
   "name": "python3"
  },
  "language_info": {
   "codemirror_mode": {
    "name": "ipython",
    "version": 3
   },
   "file_extension": ".py",
   "mimetype": "text/x-python",
   "name": "python",
   "nbconvert_exporter": "python",
   "pygments_lexer": "ipython3",
   "version": "3.9.13"
  }
 },
 "nbformat": 4,
 "nbformat_minor": 5
}
