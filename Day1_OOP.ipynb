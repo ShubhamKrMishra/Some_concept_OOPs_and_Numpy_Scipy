{
 "cells": [
  {
   "cell_type": "code",
   "execution_count": 2,
   "id": "952ef96d",
   "metadata": {},
   "outputs": [],
   "source": [
    "#1. classes -blueprint for creating an object\n",
    "#2. Object - instance of class\n",
    "\n",
    "class Employee:\n",
    "    pass\n",
    "    "
   ]
  },
  {
   "cell_type": "code",
   "execution_count": 3,
   "id": "18168d5e",
   "metadata": {},
   "outputs": [],
   "source": [
    "obj = Employee()"
   ]
  },
  {
   "cell_type": "code",
   "execution_count": 4,
   "id": "2ce00e64",
   "metadata": {},
   "outputs": [
    {
     "name": "stdout",
     "output_type": "stream",
     "text": [
      "50\n"
     ]
    }
   ],
   "source": [
    "class Demo:\n",
    "    name = \"Tarun\"#class variale\n",
    "    age = 50\n",
    "    \n",
    "obj = Demo()\n",
    "print(obj.age)\n",
    "\n",
    "    "
   ]
  },
  {
   "cell_type": "code",
   "execution_count": 10,
   "id": "8e6393df",
   "metadata": {},
   "outputs": [
    {
     "name": "stdout",
     "output_type": "stream",
     "text": [
      "50\n",
      "eating\n"
     ]
    }
   ],
   "source": [
    "class Demo:\n",
    "    name = \"Tarun\"#class variale\n",
    "    age = 50\n",
    "    \n",
    "    def eat(self):\n",
    "        print('eating') \n",
    "    \n",
    "obj = Demo()\n",
    "print(obj.age)\n",
    "obj.eat()"
   ]
  },
  {
   "cell_type": "code",
   "execution_count": 8,
   "id": "84fd9142",
   "metadata": {},
   "outputs": [
    {
     "name": "stdout",
     "output_type": "stream",
     "text": [
      "eating\n"
     ]
    }
   ],
   "source": [
    "def eat():\n",
    "        print('eating') \n",
    "        \n",
    "eat()"
   ]
  },
  {
   "cell_type": "code",
   "execution_count": 14,
   "id": "6821d3b9",
   "metadata": {},
   "outputs": [
    {
     "name": "stdout",
     "output_type": "stream",
     "text": [
      "50\n",
      "eating\n",
      "Tarun\n"
     ]
    }
   ],
   "source": [
    "class Demo:\n",
    "    name = \"Tarun\"#class variale\n",
    "    age = 50\n",
    "    \n",
    "    def eat(self):\n",
    "        print('eating') \n",
    "        print(self.name)\n",
    "    \n",
    "obj = Demo()\n",
    "print(obj.age)\n",
    "obj.eat()"
   ]
  },
  {
   "cell_type": "code",
   "execution_count": 21,
   "id": "8bd5e2cc",
   "metadata": {},
   "outputs": [
    {
     "name": "stdout",
     "output_type": "stream",
     "text": [
      "Employee name Tarun\n",
      "The addition is :  25\n"
     ]
    }
   ],
   "source": [
    "#Parameterized\n",
    "#Non parameterized\n",
    "class Demo:\n",
    "    name = \"Tarun\"#class variale\n",
    "    age = 50\n",
    "    \n",
    "    def print1(self):\n",
    "        print(\"Employee name\",self.name)\n",
    "        \n",
    "    def add(self,a,b):\n",
    "        c = a+b\n",
    "        print(\"The addition is : \", c)\n",
    "        \n",
    "    \n",
    "    \n",
    "obj = Demo()\n",
    "#print(obj.age)\n",
    "obj.print1()\n",
    "obj.add(22,3)"
   ]
  },
  {
   "cell_type": "code",
   "execution_count": null,
   "id": "42369446",
   "metadata": {},
   "outputs": [],
   "source": [
    "def add(self):\n",
    "    a = 2\n",
    "    b = 3\n",
    "    c = a+b\n",
    "    print(\"The addition is : \", c)"
   ]
  },
  {
   "cell_type": "code",
   "execution_count": 23,
   "id": "b75e601d",
   "metadata": {},
   "outputs": [
    {
     "name": "stdout",
     "output_type": "stream",
     "text": [
      "Employee name Tarun\n",
      "The addition is :  55\n",
      "None\n"
     ]
    }
   ],
   "source": [
    "class Demo:\n",
    "    name = \"Tarun\"#class variale\n",
    "    age = 50\n",
    "    \n",
    "    def print1(self):\n",
    "        self.a = 22\n",
    "        self.b = 33\n",
    "        print(\"Employee name\",self.name)\n",
    "        \n",
    "    def add(self):\n",
    "        c = self.a+self.b\n",
    "        print(\"The addition is : \", c)\n",
    "        \n",
    "    \n",
    "    \n",
    "obj = Demo()\n",
    "#print(obj.age)\n",
    "obj.print1()\n",
    "print(obj.add())"
   ]
  },
  {
   "cell_type": "code",
   "execution_count": 26,
   "id": "184833e7",
   "metadata": {},
   "outputs": [
    {
     "name": "stdout",
     "output_type": "stream",
     "text": [
      "Employee name Tarun\n",
      "275\n"
     ]
    }
   ],
   "source": [
    "class Demo:\n",
    "    name = \"Tarun\"#class variale\n",
    "    age = 50\n",
    "    \n",
    "    def print1(self):\n",
    "        self.a = 22\n",
    "        self.b = 33\n",
    "        print(\"Employee name\",self.name)\n",
    "        \n",
    "    def add(self):\n",
    "        c = self.a+self.b\n",
    "        return c\n",
    "        \n",
    "    \n",
    "    \n",
    "obj = Demo()\n",
    "#print(obj.age)\n",
    "obj.print1()\n",
    "var = obj.add()\n",
    "var2 = var*5\n",
    "print(var2)"
   ]
  },
  {
   "cell_type": "markdown",
   "id": "2d31d1c0",
   "metadata": {},
   "source": [
    "# Constructor\n",
    "- It's automatically called as soon as we create an object"
   ]
  },
  {
   "cell_type": "code",
   "execution_count": 41,
   "id": "a947c99f",
   "metadata": {},
   "outputs": [
    {
     "name": "stdout",
     "output_type": "stream",
     "text": [
      "The addition is :  55\n",
      "50.24\n"
     ]
    }
   ],
   "source": [
    "class Demo:\n",
    "    name = \"Tarun\"#class variale\n",
    "    age = 50\n",
    "    \n",
    "    def __init__(self):#__init__ =Define a constructor\n",
    "        self.a = 22\n",
    "        self.b = 33\n",
    "        self.pie = 3.14\n",
    "        self.r = 4\n",
    "        #print(\"Employee name\",self.name)\n",
    "        \n",
    "    def add(self):\n",
    "        c = self.a+self.b\n",
    "        print(\"The addition is : \", c)\n",
    "        \n",
    "    def cal(self):\n",
    "        var = self.pie *self.r*self.r\n",
    "        print(var)\n",
    "        \n",
    "    \n",
    "    \n",
    "obj = Demo()\n",
    "#obj.__init__()\n",
    "#obj.val()\n",
    "obj.add()\n",
    "obj.cal()\n"
   ]
  },
  {
   "cell_type": "code",
   "execution_count": 45,
   "id": "a39bb9de",
   "metadata": {},
   "outputs": [
    {
     "name": "stdout",
     "output_type": "stream",
     "text": [
      "The addition is :  30\n",
      "78.5\n"
     ]
    }
   ],
   "source": [
    "#par\n",
    "class Demo:\n",
    "    name = \"Tarun\"#class variale\n",
    "    age = 50\n",
    "    \n",
    "    def __init__(self,a,b,pie,r):#__init__ =Define a constructor\n",
    "        self.a = a\n",
    "        self.b = b\n",
    "        self.pie = pie\n",
    "        self.r = r\n",
    "        #print(\"Employee name\",self.name)\n",
    "        \n",
    "    def add(self):\n",
    "        c = self.a+self.b\n",
    "        print(\"The addition is : \", c)\n",
    "        \n",
    "    def cal(self):\n",
    "        var = self.pie *self.r*self.r\n",
    "        print(var)\n",
    "        \n",
    "    \n",
    "    \n",
    "obj = Demo(20,10,3.14,5)\n",
    "#obj.__init__()\n",
    "#obj.val()\n",
    "obj.add()\n",
    "obj.cal()"
   ]
  },
  {
   "cell_type": "code",
   "execution_count": 44,
   "id": "726ce975",
   "metadata": {},
   "outputs": [
    {
     "name": "stdout",
     "output_type": "stream",
     "text": [
      "The addition is :  30\n",
      "78.5\n"
     ]
    }
   ],
   "source": [
    "#par\n",
    "class Demo:\n",
    "    name = \"Tarun\"#class variale\n",
    "    age = 50\n",
    "    \n",
    "    def __init__(self,a,b,r):#__init__ =Define a constructor\n",
    "        self.a = a\n",
    "        self.b = b\n",
    "        self.pie = 3.14\n",
    "        self.r = r\n",
    "        #print(\"Employee name\",self.name)\n",
    "        \n",
    "    def add(self):\n",
    "        c = self.a+self.b\n",
    "        print(\"The addition is : \", c)\n",
    "        \n",
    "    def cal(self):\n",
    "        var = self.pie *self.r*self.r\n",
    "        print(var)\n",
    "        \n",
    "    \n",
    "    \n",
    "obj = Demo(20,10,5)\n",
    "#obj.__init__()\n",
    "#obj.val()\n",
    "obj.add()\n",
    "obj.cal()"
   ]
  },
  {
   "cell_type": "code",
   "execution_count": 46,
   "id": "87eae806",
   "metadata": {},
   "outputs": [
    {
     "name": "stdout",
     "output_type": "stream",
     "text": [
      "Enter the value of a15\n",
      "Enter the value of b20\n",
      "Enter the value of r10\n",
      "The addition is :  35\n",
      "314.0\n"
     ]
    }
   ],
   "source": [
    "#par\n",
    "class Demo:\n",
    "    name = \"Tarun\"#class variale\n",
    "    age = 50\n",
    "    \n",
    "    def __init__(self,a,b,r):#__init__ =Define a constructor\n",
    "        self.a = a\n",
    "        self.b = b\n",
    "        self.pie = 3.14\n",
    "        self.r = r\n",
    "        #print(\"Employee name\",self.name)\n",
    "        \n",
    "    def add(self):\n",
    "        c = self.a+self.b\n",
    "        print(\"The addition is : \", c)\n",
    "        \n",
    "    def cal(self):\n",
    "        var = self.pie *self.r*self.r\n",
    "        print(var)\n",
    "        \n",
    "a = int(input(\"Enter the value of a\"))       \n",
    "b = int(input(\"Enter the value of b\"))         \n",
    "r = int(input(\"Enter the value of r\"))  \n",
    "    \n",
    "obj = Demo(a,b,r)\n",
    "#obj.__init__()\n",
    "#obj.val()\n",
    "obj.add()\n",
    "obj.cal()"
   ]
  },
  {
   "cell_type": "code",
   "execution_count": null,
   "id": "f50a3520",
   "metadata": {},
   "outputs": [],
   "source": []
  }
 ],
 "metadata": {
  "kernelspec": {
   "display_name": "Python 3 (ipykernel)",
   "language": "python",
   "name": "python3"
  },
  "language_info": {
   "codemirror_mode": {
    "name": "ipython",
    "version": 3
   },
   "file_extension": ".py",
   "mimetype": "text/x-python",
   "name": "python",
   "nbconvert_exporter": "python",
   "pygments_lexer": "ipython3",
   "version": "3.9.13"
  }
 },
 "nbformat": 4,
 "nbformat_minor": 5
}
