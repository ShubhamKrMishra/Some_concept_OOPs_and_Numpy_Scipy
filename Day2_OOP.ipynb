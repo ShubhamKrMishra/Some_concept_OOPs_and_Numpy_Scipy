{
 "cells": [
  {
   "cell_type": "code",
   "execution_count": 2,
   "id": "952ef96d",
   "metadata": {},
   "outputs": [],
   "source": [
    "#1. classes -blueprint for creating an object\n",
    "#2. Object - instance of class\n",
    "\n",
    "class Employee:\n",
    "    pass\n",
    "    "
   ]
  },
  {
   "cell_type": "code",
   "execution_count": 3,
   "id": "18168d5e",
   "metadata": {},
   "outputs": [],
   "source": [
    "obj = Employee()"
   ]
  },
  {
   "cell_type": "code",
   "execution_count": 4,
   "id": "2ce00e64",
   "metadata": {},
   "outputs": [
    {
     "name": "stdout",
     "output_type": "stream",
     "text": [
      "50\n"
     ]
    }
   ],
   "source": [
    "class Demo:\n",
    "    name = \"Tarun\"#class variale\n",
    "    age = 50\n",
    "    \n",
    "obj = Demo()\n",
    "print(obj.age)\n",
    "\n",
    "    "
   ]
  },
  {
   "cell_type": "code",
   "execution_count": 10,
   "id": "8e6393df",
   "metadata": {},
   "outputs": [
    {
     "name": "stdout",
     "output_type": "stream",
     "text": [
      "50\n",
      "eating\n"
     ]
    }
   ],
   "source": [
    "class Demo:\n",
    "    name = \"Tarun\"#class variale\n",
    "    age = 50\n",
    "    \n",
    "    def eat(self):\n",
    "        print('eating') \n",
    "    \n",
    "obj = Demo()\n",
    "print(obj.age)\n",
    "obj.eat()"
   ]
  },
  {
   "cell_type": "code",
   "execution_count": 8,
   "id": "84fd9142",
   "metadata": {},
   "outputs": [
    {
     "name": "stdout",
     "output_type": "stream",
     "text": [
      "eating\n"
     ]
    }
   ],
   "source": [
    "def eat():\n",
    "        print('eating') \n",
    "        \n",
    "eat()"
   ]
  },
  {
   "cell_type": "code",
   "execution_count": 14,
   "id": "6821d3b9",
   "metadata": {},
   "outputs": [
    {
     "name": "stdout",
     "output_type": "stream",
     "text": [
      "50\n",
      "eating\n",
      "Tarun\n"
     ]
    }
   ],
   "source": [
    "class Demo:\n",
    "    name = \"Tarun\"#class variale\n",
    "    age = 50\n",
    "    \n",
    "    def eat(self):\n",
    "        print('eating') \n",
    "        print(self.name)\n",
    "    \n",
    "obj = Demo()\n",
    "print(obj.age)\n",
    "obj.eat()"
   ]
  },
  {
   "cell_type": "code",
   "execution_count": 21,
   "id": "8bd5e2cc",
   "metadata": {},
   "outputs": [
    {
     "name": "stdout",
     "output_type": "stream",
     "text": [
      "Employee name Tarun\n",
      "The addition is :  25\n"
     ]
    }
   ],
   "source": [
    "#Parameterized\n",
    "#Non parameterized\n",
    "class Demo:\n",
    "    name = \"Tarun\"#class variale\n",
    "    age = 50\n",
    "    \n",
    "    def print1(self):\n",
    "        print(\"Employee name\",self.name)\n",
    "        \n",
    "    def add(self,a,b):\n",
    "        c = a+b\n",
    "        print(\"The addition is : \", c)\n",
    "        \n",
    "    \n",
    "    \n",
    "obj = Demo()\n",
    "#print(obj.age)\n",
    "obj.print1()\n",
    "obj.add(22,3)"
   ]
  },
  {
   "cell_type": "code",
   "execution_count": null,
   "id": "42369446",
   "metadata": {},
   "outputs": [],
   "source": [
    "def add(self):\n",
    "    a = 2\n",
    "    b = 3\n",
    "    c = a+b\n",
    "    print(\"The addition is : \", c)"
   ]
  },
  {
   "cell_type": "code",
   "execution_count": 23,
   "id": "b75e601d",
   "metadata": {},
   "outputs": [
    {
     "name": "stdout",
     "output_type": "stream",
     "text": [
      "Employee name Tarun\n",
      "The addition is :  55\n",
      "None\n"
     ]
    }
   ],
   "source": [
    "class Demo:\n",
    "    name = \"Tarun\"#class variale\n",
    "    age = 50\n",
    "    \n",
    "    def print1(self):\n",
    "        self.a = 22\n",
    "        self.b = 33\n",
    "        print(\"Employee name\",self.name)\n",
    "        \n",
    "    def add(self):\n",
    "        c = self.a+self.b\n",
    "        print(\"The addition is : \", c)\n",
    "        \n",
    "    \n",
    "    \n",
    "obj = Demo()\n",
    "#print(obj.age)\n",
    "obj.print1()\n",
    "print(obj.add())"
   ]
  },
  {
   "cell_type": "code",
   "execution_count": 26,
   "id": "184833e7",
   "metadata": {},
   "outputs": [
    {
     "name": "stdout",
     "output_type": "stream",
     "text": [
      "Employee name Tarun\n",
      "275\n"
     ]
    }
   ],
   "source": [
    "class Demo:\n",
    "    name = \"Tarun\"#class variale\n",
    "    age = 50\n",
    "    \n",
    "    def print1(self):\n",
    "        self.a = 22\n",
    "        self.b = 33\n",
    "        print(\"Employee name\",self.name)\n",
    "        \n",
    "    def add(self):\n",
    "        c = self.a+self.b\n",
    "        return c\n",
    "        \n",
    "    \n",
    "    \n",
    "obj = Demo()\n",
    "#print(obj.age)\n",
    "obj.print1()\n",
    "var = obj.add()\n",
    "var2 = var*5\n",
    "print(var2)"
   ]
  },
  {
   "cell_type": "markdown",
   "id": "2d31d1c0",
   "metadata": {},
   "source": [
    "# Constructor\n",
    "- It's automatically called as soon as we create an object"
   ]
  },
  {
   "cell_type": "code",
   "execution_count": 41,
   "id": "a947c99f",
   "metadata": {},
   "outputs": [
    {
     "name": "stdout",
     "output_type": "stream",
     "text": [
      "The addition is :  55\n",
      "50.24\n"
     ]
    }
   ],
   "source": [
    "class Demo:\n",
    "    name = \"Tarun\"#class variale\n",
    "    age = 50\n",
    "    \n",
    "    def __init__(self):#__init__ =Define a constructor\n",
    "        self.a = 22\n",
    "        self.b = 33\n",
    "        self.pie = 3.14\n",
    "        self.r = 4\n",
    "        #print(\"Employee name\",self.name)\n",
    "        \n",
    "    def add(self):\n",
    "        c = self.a+self.b\n",
    "        print(\"The addition is : \", c)\n",
    "        \n",
    "    def cal(self):\n",
    "        var = self.pie *self.r*self.r\n",
    "        print(var)\n",
    "        \n",
    "    \n",
    "    \n",
    "obj = Demo()\n",
    "#obj.__init__()\n",
    "#obj.val()\n",
    "obj.add()\n",
    "obj.cal()\n"
   ]
  },
  {
   "cell_type": "code",
   "execution_count": 45,
   "id": "a39bb9de",
   "metadata": {},
   "outputs": [
    {
     "name": "stdout",
     "output_type": "stream",
     "text": [
      "The addition is :  30\n",
      "78.5\n"
     ]
    }
   ],
   "source": [
    "#par\n",
    "class Demo:\n",
    "    name = \"Tarun\"#class variale\n",
    "    age = 50\n",
    "    \n",
    "    def __init__(self,a,b,pie,r):#__init__ =Define a constructor\n",
    "        self.a = a\n",
    "        self.b = b\n",
    "        self.pie = pie\n",
    "        self.r = r\n",
    "        #print(\"Employee name\",self.name)\n",
    "        \n",
    "    def add(self):\n",
    "        c = self.a+self.b\n",
    "        print(\"The addition is : \", c)\n",
    "        \n",
    "    def cal(self):\n",
    "        var = self.pie *self.r*self.r\n",
    "        print(var)\n",
    "        \n",
    "    \n",
    "    \n",
    "obj = Demo(20,10,3.14,5)\n",
    "#obj.__init__()\n",
    "#obj.val()\n",
    "obj.add()\n",
    "obj.cal()"
   ]
  },
  {
   "cell_type": "code",
   "execution_count": 44,
   "id": "726ce975",
   "metadata": {},
   "outputs": [
    {
     "name": "stdout",
     "output_type": "stream",
     "text": [
      "The addition is :  30\n",
      "78.5\n"
     ]
    }
   ],
   "source": [
    "#par\n",
    "class Demo:\n",
    "    name = \"Tarun\"#class variale\n",
    "    age = 50\n",
    "    \n",
    "    def __init__(self,a,b,r):#__init__ =Define a constructor\n",
    "        self.a = a\n",
    "        self.b = b\n",
    "        self.pie = 3.14\n",
    "        self.r = r\n",
    "        #print(\"Employee name\",self.name)\n",
    "        \n",
    "    def add(self):\n",
    "        c = self.a+self.b\n",
    "        print(\"The addition is : \", c)\n",
    "        \n",
    "    def cal(self):\n",
    "        var = self.pie *self.r*self.r\n",
    "        print(var)\n",
    "        \n",
    "    \n",
    "    \n",
    "obj = Demo(20,10,5)\n",
    "#obj.__init__()\n",
    "#obj.val()\n",
    "obj.add()\n",
    "obj.cal()"
   ]
  },
  {
   "cell_type": "code",
   "execution_count": 46,
   "id": "87eae806",
   "metadata": {},
   "outputs": [
    {
     "name": "stdout",
     "output_type": "stream",
     "text": [
      "Enter the value of a15\n",
      "Enter the value of b20\n",
      "Enter the value of r10\n",
      "The addition is :  35\n",
      "314.0\n"
     ]
    }
   ],
   "source": [
    "#par\n",
    "class Demo:\n",
    "    name = \"Tarun\"#class variale\n",
    "    age = 50\n",
    "    \n",
    "    def __init__(self,a,b,r):#__init__ =Define a constructor\n",
    "        self.a = a\n",
    "        self.b = b\n",
    "        self.pie = 3.14\n",
    "        self.r = r\n",
    "        #print(\"Employee name\",self.name)\n",
    "        \n",
    "    def add(self):\n",
    "        c = self.a+self.b\n",
    "        print(\"The addition is : \", c)\n",
    "        \n",
    "    def cal(self):\n",
    "        var = self.pie *self.r*self.r\n",
    "        print(var)\n",
    "        \n",
    "a = int(input(\"Enter the value of a\"))       \n",
    "b = int(input(\"Enter the value of b\"))         \n",
    "r = int(input(\"Enter the value of r\"))  \n",
    "    \n",
    "obj = Demo(a,b,r)\n",
    "#obj.__init__()\n",
    "#obj.val()\n",
    "obj.add()\n",
    "obj.cal()"
   ]
  },
  {
   "cell_type": "code",
   "execution_count": 1,
   "id": "f50a3520",
   "metadata": {},
   "outputs": [
    {
     "name": "stdout",
     "output_type": "stream",
     "text": [
      "Student Details: Lav is the best 10\n",
      "Invalid roll no. Please set correct roll number\n",
      "Student Details: Lav is the best 25\n"
     ]
    }
   ],
   "source": [
    "class Student:\n",
    "    def __init__(self, name, roll_no, age):\n",
    "        \n",
    "        self.name = name\n",
    "        self.__roll_no = roll_no\n",
    "        self.__age = age\n",
    "\n",
    "    def show(self):\n",
    "        print('Student Details:', self.name, self.__roll_no)\n",
    "\n",
    "    def get_roll_no(self):\n",
    "        return self.__roll_no\n",
    "\n",
    "    def set_roll_no(self, number):\n",
    "        if number > 50:\n",
    "            print('Invalid roll no. Please set correct roll number')\n",
    "        else:\n",
    "            self.__roll_no = number\n",
    "\n",
    "lavps = Student('Lav is the best', 10, 15)\n",
    "\n",
    "lavps.show()\n",
    "\n",
    "lavps.set_roll_no(120)\n",
    "\n",
    "lavps.set_roll_no(25)\n",
    "lavps.show()\n"
   ]
  },
  {
   "cell_type": "code",
   "execution_count": 2,
   "id": "cf16913f",
   "metadata": {},
   "outputs": [
    {
     "name": "stdout",
     "output_type": "stream",
     "text": [
      "Student Details: Lav is the best 10\n",
      "Invalid roll no. Please set correct roll number\n",
      "Student Details: Lav is the best 25\n"
     ]
    }
   ],
   "source": [
    "class Student:\n",
    "    def __init__(self, name, roll_no, age):\n",
    "        \n",
    "        self.name = name\n",
    "        self.__roll_no = roll_no\n",
    "        self.__age = age\n",
    "\n",
    "    def show(self):\n",
    "        print('Student Details:', self.name, self.__roll_no)\n",
    "\n",
    "    def get_roll_no(self):\n",
    "        return self.__roll_no\n",
    "\n",
    "    def set_roll_no(self, number):\n",
    "        if number > 50:\n",
    "            print('Invalid roll no. Please set correct roll number')\n",
    "        else:\n",
    "            self.__roll_no = number\n",
    "\n",
    "lavps = Student('Lav is the best', 10, 15)\n",
    "\n",
    "lavps.show()\n",
    "\n",
    "lavps.set_roll_no(120)\n",
    "\n",
    "lavps.set_roll_no(25)\n",
    "lavps.show()\n"
   ]
  },
  {
   "cell_type": "code",
   "execution_count": 3,
   "id": "06d8a1d4",
   "metadata": {},
   "outputs": [
    {
     "name": "stdout",
     "output_type": "stream",
     "text": [
      "Black\n",
      "Georgette\n",
      "Grey\n",
      "M\n",
      "Lining\n",
      "Cotton\n"
     ]
    }
   ],
   "source": [
    "# Parent class\n",
    "class Dresses:\n",
    "    def __init__(self, color, size):\n",
    "        self.color = color\n",
    "        self.size = size\n",
    "\n",
    "    def fabric(self):\n",
    "        print(\"Georgette\")\n",
    "\n",
    "# Child class\n",
    "class Joggers(Dresses):\n",
    "    def __init__(self, color, pattern):\n",
    "        super().__init__(color, size =\"M\")\n",
    "        self.pattern = pattern\n",
    "\n",
    "    def fabric2(self):\n",
    "        print(\"Cotton\")\n",
    "        \n",
    "# creating objects for both classes\n",
    "my_dress = Dresses(\"Black\", \"XL\")\n",
    "my_joggs = Joggers(\"Grey\", \"Lining\")\n",
    "\n",
    "# accessing parent attributes\n",
    "print(my_dress.color)\n",
    "my_dress.fabric()\n",
    "\n",
    "# accessing child attributes\n",
    "print(my_joggs.color)\n",
    "print(my_joggs.size)\n",
    "print(my_joggs.pattern)\n",
    "my_joggs.fabric2()\n"
   ]
  },
  {
   "cell_type": "code",
   "execution_count": 5,
   "id": "e33c6a3a",
   "metadata": {},
   "outputs": [],
   "source": [
    "#Multi-level Inheritance\n",
    "class C1:\n",
    "    def f1(self):\n",
    "        print(\"Python\")\n",
    "\n",
    "class C2(C1):\n",
    "    def f2(self):\n",
    "        print(\"OOPS concept\")\n",
    "        \n",
    "class C3(C2):\n",
    "    def f3(self):\n",
    "        print(\"Multilevel Inheritance\")\n"
   ]
  },
  {
   "cell_type": "markdown",
   "id": "dff0b7d9",
   "metadata": {},
   "source": [
    "# Inheritance \n",
    "One class inherits the property of other class"
   ]
  },
  {
   "cell_type": "code",
   "execution_count": 7,
   "id": "63271bce",
   "metadata": {},
   "outputs": [
    {
     "name": "stdout",
     "output_type": "stream",
     "text": [
      "Class Z\n"
     ]
    }
   ],
   "source": [
    "class X:\n",
    "    def display(self):\n",
    "        print(\"Class X\")\n",
    "        \n",
    "class Y(X):\n",
    "    def display(self):\n",
    "        print(\"Class Y\")\n",
    "        \n",
    "class Z(Y):\n",
    "    def display(self):\n",
    "        print(\"Class Z\")\n",
    "        \n",
    "        \n",
    "z = Z()\n",
    "z.display()\n"
   ]
  },
  {
   "cell_type": "code",
   "execution_count": 9,
   "id": "8084bd83",
   "metadata": {},
   "outputs": [
    {
     "name": "stdout",
     "output_type": "stream",
     "text": [
      "Parent1\n",
      "Parent2\n",
      "Child class\n"
     ]
    }
   ],
   "source": [
    "class Parent1:#Base class\n",
    "    def p1(self):\n",
    "        print(\"Parent1\")\n",
    "        \n",
    "class Parent2:\n",
    "    def p2(self):\n",
    "        print(\"Parent2\")\n",
    "\n",
    "class Child(Parent1,Parent2):\n",
    "    def c1(self):\n",
    "        print(\"Child class\")\n",
    "\n",
    "obj1 = Child()\n",
    "obj1.p1()\n",
    "obj1.p2()\n",
    "obj1.c1()\n",
    "        "
   ]
  },
  {
   "cell_type": "code",
   "execution_count": 14,
   "id": "0f6378d2",
   "metadata": {},
   "outputs": [],
   "source": [
    "#Super class"
   ]
  },
  {
   "cell_type": "code",
   "execution_count": 20,
   "id": "f05d54c9",
   "metadata": {},
   "outputs": [
    {
     "name": "stdout",
     "output_type": "stream",
     "text": [
      "Class Y\n",
      "Class X\n",
      "Class Z\n"
     ]
    }
   ],
   "source": [
    "class X:\n",
    "    \n",
    "    def display1(self):\n",
    "        print(\"Class X\")\n",
    "        \n",
    "class Y(X):\n",
    "    def display2(self):\n",
    "        print(\"Class Y\")\n",
    "        \n",
    "class Z(Y):\n",
    "    def display3(self):\n",
    "        super().display2()\n",
    "        super().display1()\n",
    "        print(\"Class Z\")\n",
    "        \n",
    "        \n",
    "z = Z()\n",
    "z.display3()"
   ]
  },
  {
   "cell_type": "markdown",
   "id": "1b9cd562",
   "metadata": {},
   "source": [
    "# Polymorphism\n",
    "Three types  - Method Overriding, Method Overloading and Operator overloading"
   ]
  },
  {
   "cell_type": "code",
   "execution_count": 24,
   "id": "5a34bf81",
   "metadata": {},
   "outputs": [],
   "source": [
    "#Method Overriding\n",
    "#Different class - Same name function\n",
    "#no. of parameter should also be same"
   ]
  },
  {
   "cell_type": "code",
   "execution_count": 33,
   "id": "78733d26",
   "metadata": {},
   "outputs": [
    {
     "name": "stdout",
     "output_type": "stream",
     "text": [
      " Inside Child\n",
      "hello\n",
      " Inside Child\n"
     ]
    }
   ],
   "source": [
    "class Parent:   \n",
    "    \n",
    "    def show(self):#same name func\n",
    "        print( \" Inside Parent\")\n",
    "        \n",
    "    def print1(self):\n",
    "        print(\"hello\")\n",
    "        \n",
    "class Child(Parent):\n",
    "         \n",
    "        \n",
    "    def show(self):#same name func\n",
    "        print( \" Inside Child\" )\n",
    "        \n",
    "obj = Child()\n",
    "obj.show()\n",
    "obj.print1()\n",
    "obj.show()\n",
    "\n",
    "\n"
   ]
  },
  {
   "cell_type": "code",
   "execution_count": 23,
   "id": "99a0c426",
   "metadata": {},
   "outputs": [
    {
     "name": "stdout",
     "output_type": "stream",
     "text": [
      "20\n"
     ]
    }
   ],
   "source": [
    "a = 10\n",
    "a = 20\n",
    "print(a)"
   ]
  },
  {
   "cell_type": "code",
   "execution_count": 34,
   "id": "0ed6421b",
   "metadata": {},
   "outputs": [],
   "source": [
    "#Method Overloading\n",
    "#Python doesn't support Method Overloading\n",
    "#single class - same name function but with different parameters"
   ]
  },
  {
   "cell_type": "code",
   "execution_count": 38,
   "id": "9473c29f",
   "metadata": {},
   "outputs": [
    {
     "name": "stdout",
     "output_type": "stream",
     "text": [
      "-1669\n"
     ]
    }
   ],
   "source": [
    "class Demo:\n",
    "    \n",
    "    def product(self,a,b):\n",
    "        p1 = a*b\n",
    "        return(p1)\n",
    "    \n",
    "    def product(self,a,b,c):\n",
    "        p2 = a*b*c\n",
    "        return(p2)\n",
    "    def product(self,a,b,c,d):\n",
    "        p3 = a+b-c*d\n",
    "        print(p3)\n",
    "     \n",
    "obj = Demo()\n",
    "#print(obj.product(1,2))\n",
    "#obj.product(2222,7,12)\n",
    "\n",
    "obj.product(12,23,34,56)\n"
   ]
  },
  {
   "cell_type": "markdown",
   "id": "68f10fab",
   "metadata": {},
   "source": [
    "# Operator Overloading"
   ]
  },
  {
   "cell_type": "code",
   "execution_count": 39,
   "id": "067e864f",
   "metadata": {},
   "outputs": [
    {
     "name": "stdout",
     "output_type": "stream",
     "text": [
      "30\n"
     ]
    }
   ],
   "source": [
    "a = 20\n",
    "b = 10\n",
    "c = a+b\n",
    "print(c)"
   ]
  },
  {
   "cell_type": "code",
   "execution_count": 41,
   "id": "44119ebe",
   "metadata": {},
   "outputs": [
    {
     "name": "stdout",
     "output_type": "stream",
     "text": [
      "Hello Dhanick\n"
     ]
    }
   ],
   "source": [
    "a = \"Hello\"\n",
    "b = \" Dhanick\"\n",
    "c  = a+b\n",
    "print(c)"
   ]
  },
  {
   "cell_type": "code",
   "execution_count": 44,
   "id": "423845ad",
   "metadata": {},
   "outputs": [
    {
     "name": "stdout",
     "output_type": "stream",
     "text": [
      "60\n"
     ]
    }
   ],
   "source": [
    "a = 10\n",
    "a += 50\n",
    "print(a)"
   ]
  },
  {
   "cell_type": "code",
   "execution_count": null,
   "id": "65acf773",
   "metadata": {},
   "outputs": [],
   "source": [
    "a *= 30"
   ]
  }
 ],
 "metadata": {
  "kernelspec": {
   "display_name": "Python 3 (ipykernel)",
   "language": "python",
   "name": "python3"
  },
  "language_info": {
   "codemirror_mode": {
    "name": "ipython",
    "version": 3
   },
   "file_extension": ".py",
   "mimetype": "text/x-python",
   "name": "python",
   "nbconvert_exporter": "python",
   "pygments_lexer": "ipython3",
   "version": "3.9.13"
  }
 },
 "nbformat": 4,
 "nbformat_minor": 5
}
